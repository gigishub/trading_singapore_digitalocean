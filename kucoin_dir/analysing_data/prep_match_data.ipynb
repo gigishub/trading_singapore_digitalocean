{
 "cells": [
  {
   "cell_type": "code",
   "execution_count": 29,
   "metadata": {},
   "outputs": [],
   "source": [
    "import pandas as pd \n",
    "import numpy as np\n",
    "import matplotlib.pyplot as plt\n",
    "from datetime import timedelta\n",
    "import json \n"
   ]
  },
  {
   "cell_type": "markdown",
   "metadata": {},
   "source": [
    "# load to df function"
   ]
  },
  {
   "cell_type": "code",
   "execution_count": 30,
   "metadata": {},
   "outputs": [],
   "source": [
    "def file_to_df(file_path):\n",
    "    file_path = file_path\n",
    "    with open(file_path,'r')as f:\n",
    "        data = json.load(f)\n",
    "    df = pd.DataFrame(data['data'])\n",
    "    return df\n"
   ]
  },
  {
   "cell_type": "markdown",
   "metadata": {},
   "source": [
    "# time stamp preparation function"
   ]
  },
  {
   "cell_type": "code",
   "execution_count": 31,
   "metadata": {},
   "outputs": [],
   "source": [
    "\n",
    "\n",
    "def prep_timestamp_column(df):\n",
    "    \"\"\"\n",
    "    Prepare timestamp column by standardizing to milliseconds\n",
    "\n",
    "    Parameters:\n",
    "    -----------\n",
    "    df : pandas.DataFrame\n",
    "        Input DataFrame with timestamp column\n",
    "    Returns:\n",
    "    --------\n",
    "    pandas.DataFrame\n",
    "        DataFrame with converted timestamp column\n",
    "    \"\"\"\n",
    "    # Identify the timestamp column\n",
    "    possible_cols = ['time', 'timestamp']\n",
    "    col_name = next((col for col in possible_cols if col in df.columns), None)\n",
    "    if col_name is None:\n",
    "        raise ValueError(\"DataFrame must contain either 'time' or 'timestamp' column\")\n",
    "    \n",
    "\n",
    "    # Vectorized standardization\n",
    "    def standardize_timestamps(series):\n",
    "        # Convert to numeric, coercing errors to NaN\n",
    "        numeric_series = pd.to_numeric(series, errors='coerce')\n",
    "        # Handle NaN values\n",
    "        numeric_series = numeric_series.fillna(0)\n",
    "        # Convert to string and handle integer/float inputs\n",
    "        ts_str = numeric_series.astype(str).str.split('.').str[0]\n",
    "        # Trim long timestamps\n",
    "        ts_str = ts_str.str.slice(0, 13)\n",
    "        # Pad short timestamps\n",
    "        ts_str = ts_str.str.pad(13, side='right', fillchar='0')\n",
    "        return ts_str.astype(np.int64)\n",
    "    \n",
    "    # Standardize timestamps\n",
    "    df['timestamp'] = standardize_timestamps(df[col_name])\n",
    "    # Convert to datetime using milliseconds\n",
    "    df['timestamp'] = pd.to_datetime(df['timestamp'], unit='ms')\n",
    "    # Drop the original column if it's different from 'timestamp'\n",
    "    if col_name != 'timestamp':\n",
    "        df.drop(columns=[col_name], inplace=True)\n",
    "    \n",
    "    return df"
   ]
  },
  {
   "cell_type": "markdown",
   "metadata": {},
   "source": [
    "# set correct datatypes for further processing"
   ]
  },
  {
   "cell_type": "code",
   "execution_count": 32,
   "metadata": {},
   "outputs": [],
   "source": [
    "\n",
    "def adjust_match_columns_and_types(df):\n",
    "    list_to_drop = ['sequence', 'symbol', 'tradeId', 'type', 'makerOrderId', 'takerOrderId','time_received']\n",
    "\n",
    "    for column in list_to_drop:\n",
    "        if column in df.columns:\n",
    "            df = df.drop(column, axis=1)\n",
    "\n",
    "    # Convert columns to appropriate data types\n",
    "    df['price'] = df['price'].astype(float)\n",
    "    df['side'] = df['side'].astype(str)\n",
    "    df['size'] = df['size'].astype(float)\n",
    "    # move timestamp column \n",
    "    df = df[['timestamp', 'price', 'side', 'size']]\n",
    "\n",
    "\n",
    "    return df"
   ]
  },
  {
   "cell_type": "markdown",
   "metadata": {},
   "source": [
    "# call all functions to prep match data"
   ]
  },
  {
   "cell_type": "code",
   "execution_count": 33,
   "metadata": {},
   "outputs": [
    {
     "name": "stdout",
     "output_type": "stream",
     "text": [
      "<class 'pandas.core.frame.DataFrame'>\n",
      "RangeIndex: 8100 entries, 0 to 8099\n",
      "Data columns (total 4 columns):\n",
      " #   Column     Non-Null Count  Dtype         \n",
      "---  ------     --------------  -----         \n",
      " 0   timestamp  8100 non-null   datetime64[ns]\n",
      " 1   price      8100 non-null   float64       \n",
      " 2   side       8100 non-null   object        \n",
      " 3   size       8100 non-null   float64       \n",
      "dtypes: datetime64[ns](1), float64(2), object(1)\n",
      "memory usage: 253.2+ KB\n"
     ]
    },
    {
     "data": {
      "text/html": [
       "<div>\n",
       "<style scoped>\n",
       "    .dataframe tbody tr th:only-of-type {\n",
       "        vertical-align: middle;\n",
       "    }\n",
       "\n",
       "    .dataframe tbody tr th {\n",
       "        vertical-align: top;\n",
       "    }\n",
       "\n",
       "    .dataframe thead th {\n",
       "        text-align: right;\n",
       "    }\n",
       "</style>\n",
       "<table border=\"1\" class=\"dataframe\">\n",
       "  <thead>\n",
       "    <tr style=\"text-align: right;\">\n",
       "      <th></th>\n",
       "      <th>timestamp</th>\n",
       "      <th>price</th>\n",
       "      <th>side</th>\n",
       "      <th>size</th>\n",
       "    </tr>\n",
       "  </thead>\n",
       "  <tbody>\n",
       "    <tr>\n",
       "      <th>0</th>\n",
       "      <td>2024-12-08 11:40:00.524</td>\n",
       "      <td>2.54541</td>\n",
       "      <td>buy</td>\n",
       "      <td>328.2866</td>\n",
       "    </tr>\n",
       "    <tr>\n",
       "      <th>1</th>\n",
       "      <td>2024-12-08 11:40:01.667</td>\n",
       "      <td>2.54626</td>\n",
       "      <td>sell</td>\n",
       "      <td>21.7891</td>\n",
       "    </tr>\n",
       "    <tr>\n",
       "      <th>2</th>\n",
       "      <td>2024-12-08 11:40:05.186</td>\n",
       "      <td>2.54743</td>\n",
       "      <td>buy</td>\n",
       "      <td>3.2935</td>\n",
       "    </tr>\n",
       "    <tr>\n",
       "      <th>3</th>\n",
       "      <td>2024-12-08 11:40:06.023</td>\n",
       "      <td>2.54779</td>\n",
       "      <td>buy</td>\n",
       "      <td>0.1971</td>\n",
       "    </tr>\n",
       "    <tr>\n",
       "      <th>4</th>\n",
       "      <td>2024-12-08 11:40:06.169</td>\n",
       "      <td>2.54797</td>\n",
       "      <td>sell</td>\n",
       "      <td>20.3782</td>\n",
       "    </tr>\n",
       "    <tr>\n",
       "      <th>...</th>\n",
       "      <td>...</td>\n",
       "      <td>...</td>\n",
       "      <td>...</td>\n",
       "      <td>...</td>\n",
       "    </tr>\n",
       "    <tr>\n",
       "      <th>8095</th>\n",
       "      <td>2024-12-08 12:40:02.797</td>\n",
       "      <td>2.56072</td>\n",
       "      <td>sell</td>\n",
       "      <td>175.5000</td>\n",
       "    </tr>\n",
       "    <tr>\n",
       "      <th>8096</th>\n",
       "      <td>2024-12-08 12:40:02.797</td>\n",
       "      <td>2.56071</td>\n",
       "      <td>sell</td>\n",
       "      <td>171.7576</td>\n",
       "    </tr>\n",
       "    <tr>\n",
       "      <th>8097</th>\n",
       "      <td>2024-12-08 12:40:03.247</td>\n",
       "      <td>2.56048</td>\n",
       "      <td>sell</td>\n",
       "      <td>194.9394</td>\n",
       "    </tr>\n",
       "    <tr>\n",
       "      <th>8098</th>\n",
       "      <td>2024-12-08 12:40:04.566</td>\n",
       "      <td>2.56025</td>\n",
       "      <td>sell</td>\n",
       "      <td>144.6600</td>\n",
       "    </tr>\n",
       "    <tr>\n",
       "      <th>8099</th>\n",
       "      <td>2024-12-08 12:40:04.566</td>\n",
       "      <td>2.56024</td>\n",
       "      <td>sell</td>\n",
       "      <td>46.3880</td>\n",
       "    </tr>\n",
       "  </tbody>\n",
       "</table>\n",
       "<p>8100 rows × 4 columns</p>\n",
       "</div>"
      ],
      "text/plain": [
       "                   timestamp    price  side      size\n",
       "0    2024-12-08 11:40:00.524  2.54541   buy  328.2866\n",
       "1    2024-12-08 11:40:01.667  2.54626  sell   21.7891\n",
       "2    2024-12-08 11:40:05.186  2.54743   buy    3.2935\n",
       "3    2024-12-08 11:40:06.023  2.54779   buy    0.1971\n",
       "4    2024-12-08 11:40:06.169  2.54797  sell   20.3782\n",
       "...                      ...      ...   ...       ...\n",
       "8095 2024-12-08 12:40:02.797  2.56072  sell  175.5000\n",
       "8096 2024-12-08 12:40:02.797  2.56071  sell  171.7576\n",
       "8097 2024-12-08 12:40:03.247  2.56048  sell  194.9394\n",
       "8098 2024-12-08 12:40:04.566  2.56025  sell  144.6600\n",
       "8099 2024-12-08 12:40:04.566  2.56024  sell   46.3880\n",
       "\n",
       "[8100 rows x 4 columns]"
      ]
     },
     "execution_count": 33,
     "metadata": {},
     "output_type": "execute_result"
    }
   ],
   "source": [
    "\n",
    "path_to_match_file = '/root/trading_systems/kucoin_dir/kucoin_release_data_initial/2024-12-08_11-40_XRP/XRP_match_data.json'\n",
    "\n",
    "df_match = file_to_df(path_to_match_file)\n",
    "df_match = prep_timestamp_column(df_match)\n",
    "df_match = adjust_match_columns_and_types(df_match)\n",
    "df_match.info()\n",
    "df_match.to_pickle('df_match_preped.pkl')\n",
    "df_match"
   ]
  },
  {
   "cell_type": "markdown",
   "metadata": {},
   "source": [
    "# aggregate match data "
   ]
  },
  {
   "cell_type": "code",
   "execution_count": 34,
   "metadata": {},
   "outputs": [
    {
     "ename": "NameError",
     "evalue": "name 'interval_seconds' is not defined",
     "output_type": "error",
     "traceback": [
      "\u001b[0;31m---------------------------------------------------------------------------\u001b[0m",
      "\u001b[0;31mNameError\u001b[0m                                 Traceback (most recent call last)",
      "Cell \u001b[0;32mIn[34], line 1\u001b[0m\n\u001b[0;32m----> 1\u001b[0m interval_seconds \u001b[38;5;241m=\u001b[39m\u001b[43minterval_seconds\u001b[49m\n\u001b[1;32m      3\u001b[0m \u001b[38;5;28;01mdef\u001b[39;00m \u001b[38;5;21maggregate_match_data\u001b[39m(df, interval_seconds\u001b[38;5;241m=\u001b[39m\u001b[38;5;241m1\u001b[39m):\n\u001b[1;32m      4\u001b[0m     \u001b[38;5;66;03m# Ensure we're working with a copy to avoid modifying the original DataFrame\u001b[39;00m\n\u001b[1;32m      5\u001b[0m     df \u001b[38;5;241m=\u001b[39m df\u001b[38;5;241m.\u001b[39mcopy()\n",
      "\u001b[0;31mNameError\u001b[0m: name 'interval_seconds' is not defined"
     ]
    }
   ],
   "source": [
    "interval_seconds =interval_seconds\n",
    "\n",
    "def aggregate_match_data(df, interval_seconds=1):\n",
    "    # Ensure we're working with a copy to avoid modifying the original DataFrame\n",
    "    df = df.copy()\n",
    "    # Set the timestamp as the index\n",
    "    df.set_index('timestamp', inplace=True)\n",
    "    \n",
    "    # Resample and aggregate\n",
    "    # setting coorect timestamp\n",
    "    buy_volume = df[df['side'] == 'buy'].resample(f'{interval_seconds}s', label='right', closed='right')['size'].sum()\n",
    "    sell_volume = df[df['side'] == 'sell'].resample(f'{interval_seconds}s', label='right', closed='right')['size'].sum()\n",
    "    trade_buy = df[df['side'] == 'buy'].resample(f'{interval_seconds}s', label='right', closed='right').size()\n",
    "    trade_sell = df[df['side'] == 'sell'].resample(f'{interval_seconds}s', label='right', closed='right').size()\n",
    "    avg_buy_price = df[df['side'] == 'buy'].resample(f'{interval_seconds}s', label='right', closed='right')['price'].mean()\n",
    "    avg_sell_price = df[df['side'] == 'sell'].resample(f'{interval_seconds}s', label='right', closed='right')['price'].mean()\n",
    "    \n",
    "    # Combine the results into a single DataFrame\n",
    "    aggregated = pd.DataFrame({\n",
    "        'trade_buy': trade_buy,\n",
    "        'trade_sell': trade_sell,\n",
    "        'buy_volume': buy_volume,\n",
    "        'sell_volume': sell_volume,\n",
    "        'avg_match_buy_price': avg_buy_price,\n",
    "        'avg_match_sell_price': avg_sell_price\n",
    "    }).fillna(0)\n",
    "    # Reset the index to get 'interval_start' as a column\n",
    "    aggregated.reset_index(inplace=True)\n",
    "\n",
    "    # calculate the match imbalance\n",
    "    aggregated['match_imbalance'] = (aggregated['buy_volume'] - aggregated['sell_volume']) / (aggregated['buy_volume'] + aggregated['sell_volume'])\n",
    "    \n",
    "    return aggregated\n",
    "\n",
    "df_match_agg = aggregate_match_data(df_match, interval_seconds=interval_seconds)\n",
    "df_match_agg"
   ]
  }
 ],
 "metadata": {
  "kernelspec": {
   "display_name": "tradingvenv",
   "language": "python",
   "name": "python3"
  },
  "language_info": {
   "codemirror_mode": {
    "name": "ipython",
    "version": 3
   },
   "file_extension": ".py",
   "mimetype": "text/x-python",
   "name": "python",
   "nbconvert_exporter": "python",
   "pygments_lexer": "ipython3",
   "version": "3.10.12"
  }
 },
 "nbformat": 4,
 "nbformat_minor": 2
}
